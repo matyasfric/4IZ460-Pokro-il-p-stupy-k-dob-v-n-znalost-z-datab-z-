{
 "cells": [
  {
   "cell_type": "markdown",
   "id": "8be1090f",
   "metadata": {},
   "source": [
    "# Analýza dat z The Movies Dataset\n",
    "\n",
    "Zdroj dat: https://www.kaggle.com/datasets/rounakbanik/the-movies-dataset?resource=download"
   ]
  }
 ],
 "metadata": {
  "language_info": {
   "name": "python"
  }
 },
 "nbformat": 4,
 "nbformat_minor": 5
}
